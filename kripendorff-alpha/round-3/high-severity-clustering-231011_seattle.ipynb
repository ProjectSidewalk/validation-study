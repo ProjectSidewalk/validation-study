{
 "cells": [
  {
   "cell_type": "code",
   "execution_count": 1,
   "metadata": {},
   "outputs": [],
   "source": [
    "import geopandas as gpd\n",
    "import pandas as pd\n",
    "from shapely.geometry import Point\n",
    "%matplotlib inline\n",
    "import seaborn as sns; sns.set_theme(color_codes=True)\n",
    "pd.set_option('display.max_columns', None)\n",
    "import matplotlib.pyplot as plt\n",
    "import numpy as np\n",
    "import matplotlib.colors\n",
    "import warnings\n",
    "warnings.filterwarnings('ignore')\n",
    "from scipy import stats\n",
    "import math    \n",
    "import folium\n",
    "from scipy.cluster.hierarchy import linkage, fcluster\n",
    "from scipy.spatial.distance import pdist\n",
    "import sys\n",
    "from haversine import haversine\n",
    "from shapely.geometry import LineString\n",
    "from shapely.ops import split, linemerge\n",
    "import krippendorff"
   ]
  },
  {
   "cell_type": "code",
   "execution_count": 2,
   "metadata": {},
   "outputs": [],
   "source": [
    "import sys\n",
    "sys.path.append('../')\n",
    "\n",
    "from src.cluster import *\n",
    "from src.colors import *\n",
    "from src.map import *\n",
    "from src.compare import *"
   ]
  },
  {
   "cell_type": "code",
   "execution_count": 4,
   "metadata": {},
   "outputs": [
    {
     "data": {
      "text/html": [
       "<div>\n",
       "<style scoped>\n",
       "    .dataframe tbody tr th:only-of-type {\n",
       "        vertical-align: middle;\n",
       "    }\n",
       "\n",
       "    .dataframe tbody tr th {\n",
       "        vertical-align: top;\n",
       "    }\n",
       "\n",
       "    .dataframe thead th {\n",
       "        text-align: right;\n",
       "    }\n",
       "</style>\n",
       "<table border=\"1\" class=\"dataframe\">\n",
       "  <thead>\n",
       "    <tr style=\"text-align: right;\">\n",
       "      <th></th>\n",
       "      <th>username</th>\n",
       "      <th>label_id</th>\n",
       "      <th>street_edge_id</th>\n",
       "      <th>neighborhood</th>\n",
       "      <th>label_type</th>\n",
       "      <th>lat</th>\n",
       "      <th>lng</th>\n",
       "      <th>gsv_panorama_id</th>\n",
       "      <th>correct</th>\n",
       "      <th>severity</th>\n",
       "      <th>temporary</th>\n",
       "      <th>tag_list</th>\n",
       "      <th>description</th>\n",
       "      <th>geometry</th>\n",
       "    </tr>\n",
       "  </thead>\n",
       "  <tbody>\n",
       "    <tr>\n",
       "      <th>0</th>\n",
       "      <td>Devon Snyder</td>\n",
       "      <td>8263</td>\n",
       "      <td>519</td>\n",
       "      <td>Greenwood</td>\n",
       "      <td>Obstacle</td>\n",
       "      <td>47.697910</td>\n",
       "      <td>-122.346878</td>\n",
       "      <td>eA8O01ruC7m2Hxna2rOYmA</td>\n",
       "      <td>None</td>\n",
       "      <td>5</td>\n",
       "      <td>t</td>\n",
       "      <td>sign</td>\n",
       "      <td>None</td>\n",
       "      <td>POINT (-122.34688 47.69791)</td>\n",
       "    </tr>\n",
       "    <tr>\n",
       "      <th>1</th>\n",
       "      <td>Devon Snyder</td>\n",
       "      <td>8264</td>\n",
       "      <td>519</td>\n",
       "      <td>Greenwood</td>\n",
       "      <td>Obstacle</td>\n",
       "      <td>47.697910</td>\n",
       "      <td>-122.346840</td>\n",
       "      <td>eA8O01ruC7m2Hxna2rOYmA</td>\n",
       "      <td>None</td>\n",
       "      <td>5</td>\n",
       "      <td>t</td>\n",
       "      <td>sign</td>\n",
       "      <td>None</td>\n",
       "      <td>POINT (-122.34684 47.69791)</td>\n",
       "    </tr>\n",
       "    <tr>\n",
       "      <th>2</th>\n",
       "      <td>Devon Snyder</td>\n",
       "      <td>8265</td>\n",
       "      <td>519</td>\n",
       "      <td>Greenwood</td>\n",
       "      <td>SurfaceProblem</td>\n",
       "      <td>47.697731</td>\n",
       "      <td>-122.347191</td>\n",
       "      <td>u54hhkI1_JMvO6PSVuls_Q</td>\n",
       "      <td>None</td>\n",
       "      <td>1</td>\n",
       "      <td>f</td>\n",
       "      <td>cracks</td>\n",
       "      <td>None</td>\n",
       "      <td>POINT (-122.34719 47.69773)</td>\n",
       "    </tr>\n",
       "    <tr>\n",
       "      <th>3</th>\n",
       "      <td>Devon Snyder</td>\n",
       "      <td>8266</td>\n",
       "      <td>519</td>\n",
       "      <td>Greenwood</td>\n",
       "      <td>Obstacle</td>\n",
       "      <td>47.697914</td>\n",
       "      <td>-122.346817</td>\n",
       "      <td>-bwvo2vUzCb2YOsT0bKDGQ</td>\n",
       "      <td>None</td>\n",
       "      <td>5</td>\n",
       "      <td>t</td>\n",
       "      <td>sign</td>\n",
       "      <td>None</td>\n",
       "      <td>POINT (-122.34682 47.69791)</td>\n",
       "    </tr>\n",
       "    <tr>\n",
       "      <th>4</th>\n",
       "      <td>Devon Snyder</td>\n",
       "      <td>8267</td>\n",
       "      <td>519</td>\n",
       "      <td>Greenwood</td>\n",
       "      <td>SurfaceProblem</td>\n",
       "      <td>47.697880</td>\n",
       "      <td>-122.346687</td>\n",
       "      <td>-bwvo2vUzCb2YOsT0bKDGQ</td>\n",
       "      <td>None</td>\n",
       "      <td>1</td>\n",
       "      <td>f</td>\n",
       "      <td>utility panel</td>\n",
       "      <td>None</td>\n",
       "      <td>POINT (-122.34669 47.69788)</td>\n",
       "    </tr>\n",
       "  </tbody>\n",
       "</table>\n",
       "</div>"
      ],
      "text/plain": [
       "       username  label_id  street_edge_id neighborhood      label_type  \\\n",
       "0  Devon Snyder      8263             519    Greenwood        Obstacle   \n",
       "1  Devon Snyder      8264             519    Greenwood        Obstacle   \n",
       "2  Devon Snyder      8265             519    Greenwood  SurfaceProblem   \n",
       "3  Devon Snyder      8266             519    Greenwood        Obstacle   \n",
       "4  Devon Snyder      8267             519    Greenwood  SurfaceProblem   \n",
       "\n",
       "         lat         lng         gsv_panorama_id correct  severity temporary  \\\n",
       "0  47.697910 -122.346878  eA8O01ruC7m2Hxna2rOYmA    None         5         t   \n",
       "1  47.697910 -122.346840  eA8O01ruC7m2Hxna2rOYmA    None         5         t   \n",
       "2  47.697731 -122.347191  u54hhkI1_JMvO6PSVuls_Q    None         1         f   \n",
       "3  47.697914 -122.346817  -bwvo2vUzCb2YOsT0bKDGQ    None         5         t   \n",
       "4  47.697880 -122.346687  -bwvo2vUzCb2YOsT0bKDGQ    None         1         f   \n",
       "\n",
       "        tag_list description                     geometry  \n",
       "0           sign        None  POINT (-122.34688 47.69791)  \n",
       "1           sign        None  POINT (-122.34684 47.69791)  \n",
       "2         cracks        None  POINT (-122.34719 47.69773)  \n",
       "3           sign        None  POINT (-122.34682 47.69791)  \n",
       "4  utility panel        None  POINT (-122.34669 47.69788)  "
      ]
     },
     "execution_count": 4,
     "metadata": {},
     "output_type": "execute_result"
    }
   ],
   "source": [
    "#read in seattle validation labels\n",
    "seattle_labels = gpd.read_file('../data/round-3/seattle-validation-labels-round3-230927.geojson')\n",
    "seattle_labels = seattle_labels.drop(columns=['time_created'])\n",
    "seattle_labels.head()"
   ]
  },
  {
   "cell_type": "code",
   "execution_count": 6,
   "metadata": {},
   "outputs": [],
   "source": [
    "#split Mikey and Devon's labels\n",
    "mikey = seattle_labels[seattle_labels['username'] == 'mikey']\n",
    "devon = seattle_labels[seattle_labels['username'] == 'Devon Snyder']\n"
   ]
  },
  {
   "cell_type": "code",
   "execution_count": 34,
   "metadata": {},
   "outputs": [],
   "source": [
    "def cluster_high_severity_with_the_other(df1,df2,severity_threshold,label_type_id):\n",
    "    #select only Mikey's labels > 3 for severity\n",
    "    df1 = df1[df1['severity'] >= severity_threshold]\n",
    "    # concact with df2\n",
    "    df = pd.concat([df1,df2])\n",
    "    label_type_clusters = cluster_label_type_at_index(df,label_type_id)[2]\n",
    "    label_type_clusters['clustered'] = label_type_clusters.duplicated(subset=['cluster_id']).astype(int)\n",
    "    #count clustered == 1 and divide by len(df1) \n",
    "    print(str(label_types[label_type_id])+ '\\n'  + str(label_type_clusters['clustered'].value_counts()))\n",
    "    print(\"clustered percentage for df1: \" + str(label_type_clusters['clustered'].value_counts()[1]/len(df1)))\n",
    "    print(\"clustered percentage for df2: \" + str(label_type_clusters['clustered'].value_counts()[1]/len(df2))) "
   ]
  },
  {
   "cell_type": "code",
   "execution_count": 38,
   "metadata": {},
   "outputs": [
    {
     "name": "stdout",
     "output_type": "stream",
     "text": [
      "Obstacle\n",
      "0    45\n",
      "1    10\n",
      "Name: clustered, dtype: int64\n",
      "clustered percentage for df1: 0.17543859649122806\n",
      "clustered percentage for df2: 0.023696682464454975\n"
     ]
    }
   ],
   "source": [
    "cluster_high_severity_with_the_other (mikey,devon,3,5)"
   ]
  },
  {
   "cell_type": "code",
   "execution_count": 41,
   "metadata": {},
   "outputs": [
    {
     "name": "stdout",
     "output_type": "stream",
     "text": [
      "Obstacle\n",
      "0    49\n",
      "1     9\n",
      "Name: clustered, dtype: int64\n",
      "clustered percentage for df1: 0.1836734693877551\n",
      "clustered percentage for df2: 0.023316062176165803\n"
     ]
    }
   ],
   "source": [
    "cluster_high_severity_with_the_other (devon,mikey,3,5)"
   ]
  }
 ],
 "metadata": {
  "kernelspec": {
   "display_name": "project-sidewalk",
   "language": "python",
   "name": "python3"
  },
  "language_info": {
   "codemirror_mode": {
    "name": "ipython",
    "version": 3
   },
   "file_extension": ".py",
   "mimetype": "text/x-python",
   "name": "python",
   "nbconvert_exporter": "python",
   "pygments_lexer": "ipython3",
   "version": "3.10.6"
  },
  "orig_nbformat": 4
 },
 "nbformat": 4,
 "nbformat_minor": 2
}
